{
 "cells": [
  {
   "cell_type": "markdown",
   "id": "9d3ef5a5-a30e-44cc-bbfe-3971112077c0",
   "metadata": {},
   "source": [
    "# Data Science Tools and Ecosystem"
   ]
  },
  {
   "cell_type": "markdown",
   "id": "1dae63a5-078d-40bd-8102-f1d78a11c2a8",
   "metadata": {},
   "source": [
    "In this notebook, Data Science Tools and Ecosystem are summarized."
   ]
  },
  {
   "cell_type": "markdown",
   "id": "004d3f24-1e30-469a-afcc-279a447529b3",
   "metadata": {},
   "source": [
    "**Objectives:**\n",
    "- List popular languages for Data Science\n",
    "- List of development environments\n",
    "- List of common libraries used by data scientists\n",
    "- Excecution of arithmetic functions in python-based code"
   ]
  },
  {
   "cell_type": "markdown",
   "id": "9e7f331e-a3f3-490a-84f9-95abca956792",
   "metadata": {},
   "source": [
    "Some of the popular languages that Data Scientists use are:\n",
    "1. Python\n",
    "2. Julia\n",
    "3. R\n"
   ]
  },
  {
   "cell_type": "markdown",
   "id": "f92e0166-285d-4593-b629-543093013608",
   "metadata": {},
   "source": [
    "Some of the commonly used libraries used by Data Scientists include:\n",
    "1. Pandas\n",
    "2. ggplot2\n",
    "3. caret\n",
    "4. numpy\n",
    "5. matplotlib"
   ]
  },
  {
   "cell_type": "markdown",
   "id": "2287fcfb-9936-45e3-a7a4-472f32cb8e37",
   "metadata": {},
   "source": [
    "| Data Science Tools|\n",
    "|-----|\n",
    "|Jupyter Notebook|\n",
    "| R Studio |\n",
    "| Pycharm |\n",
    "| Spyder |\n",
    "| VS Code |"
   ]
  },
  {
   "cell_type": "markdown",
   "id": "df59fb56-bf67-4542-b1b1-639db69a3e17",
   "metadata": {},
   "source": [
    "### Below are a few examples of evaluating arithmetic expressions in Python"
   ]
  },
  {
   "cell_type": "markdown",
   "id": "09f7e6fa-8e33-48c9-ba58-32c9df7365a9",
   "metadata": {},
   "source": [
    "This a simple arithmetic expression to mutiply then add integers"
   ]
  },
  {
   "cell_type": "code",
   "execution_count": 7,
   "id": "a7c19882-96fd-4d58-a367-e4df641417f6",
   "metadata": {
    "scrolled": true
   },
   "outputs": [
    {
     "data": {
      "text/plain": [
       "17"
      ]
     },
     "execution_count": 7,
     "metadata": {},
     "output_type": "execute_result"
    }
   ],
   "source": [
    "(3*4)+5"
   ]
  },
  {
   "cell_type": "markdown",
   "id": "cecfed62-f1b9-41ee-a75a-0e4560150e03",
   "metadata": {},
   "source": [
    "This will convert 200 minutes to hours by diving by 60"
   ]
  },
  {
   "cell_type": "code",
   "execution_count": 8,
   "id": "64747ee6-0e46-4d26-bcb2-529d3ff7c043",
   "metadata": {},
   "outputs": [
    {
     "data": {
      "text/plain": [
       "3.3333333333333335"
      ]
     },
     "execution_count": 8,
     "metadata": {},
     "output_type": "execute_result"
    }
   ],
   "source": [
    "200/60"
   ]
  },
  {
   "cell_type": "markdown",
   "id": "7dca7393-a27c-4bdd-be8b-399bebe0785b",
   "metadata": {},
   "source": [
    "## Adam Abgao\n",
    "**Author**"
   ]
  }
 ],
 "metadata": {
  "kernelspec": {
   "display_name": "Python 3 (ipykernel)",
   "language": "python",
   "name": "python3"
  },
  "language_info": {
   "codemirror_mode": {
    "name": "ipython",
    "version": 3
   },
   "file_extension": ".py",
   "mimetype": "text/x-python",
   "name": "python",
   "nbconvert_exporter": "python",
   "pygments_lexer": "ipython3",
   "version": "3.11.7"
  }
 },
 "nbformat": 4,
 "nbformat_minor": 5
}
